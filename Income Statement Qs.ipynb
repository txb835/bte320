{
  "nbformat": 4,
  "nbformat_minor": 0,
  "metadata": {
    "colab": {
      "provenance": [],
      "authorship_tag": "ABX9TyOySu8onTVh+kl0E5Y/gKjq",
      "include_colab_link": true
    },
    "kernelspec": {
      "name": "python3",
      "display_name": "Python 3"
    },
    "language_info": {
      "name": "python"
    }
  },
  "cells": [
    {
      "cell_type": "markdown",
      "metadata": {
        "id": "view-in-github",
        "colab_type": "text"
      },
      "source": [
        "<a href=\"https://colab.research.google.com/github/txb835/bte320/blob/main/Income%20Statement%20Qs.ipynb\" target=\"_parent\"><img src=\"https://colab.research.google.com/assets/colab-badge.svg\" alt=\"Open In Colab\"/></a>"
      ]
    },
    {
      "cell_type": "code",
      "execution_count": 1,
      "metadata": {
        "colab": {
          "base_uri": "https://localhost:8080/"
        },
        "id": "aXu9vSg8oe_q",
        "outputId": "dc50c02d-5c55-45d2-bd5a-b80c8d597c0c"
      },
      "outputs": [
        {
          "output_type": "stream",
          "name": "stdout",
          "text": [
            "Enter sales ($): 12000\n",
            "Enter Cost of Goods Sold (%): 40\n",
            "Sales: $12,000\n",
            "Cost of Goods Sold (40%): $4,800\n",
            "Gross Profit: $7,200\n",
            "\n",
            "Enter tax rate (%): 30\n",
            "Sales: $12,000\n",
            "Cost of Goods Sold (40%): $4,800\n",
            "Gross Profit: $7,200\n",
            "Taxes (@ 30%): $2,160\n",
            "Net Income: $5,040\n"
          ]
        }
      ],
      "source": [
        "# Inputs: Sales and cogs_pct\n",
        "sales = input(\"Enter sales ($): \")\n",
        "sales = float(sales)\n",
        "\n",
        "cogs_pct = input(\"Enter Cost of Goods Sold (%): \")\n",
        "cogs_pct = float(cogs_pct)\n",
        "\n",
        "# Processes: calculate actual cost of goods sold, tax, net income\n",
        "cogs = sales * cogs_pct / 100\n",
        "profit = sales - cogs\n",
        "\n",
        "\n",
        "\n",
        "print(f\"Sales: ${sales:,.0f}\")\n",
        "print(f\"Cost of Goods Sold ({cogs_pct:.0f}%): ${cogs:,.0f}\")\n",
        "print(f\"Gross Profit: ${profit:,.0f}\")\n",
        "\n",
        "# add Taxes + Net Income\n",
        "tax_rate = input(\"\\nEnter tax rate (%): \")\n",
        "tax_rate = float(tax_rate)\n",
        "\n",
        "taxes = profit * tax_rate / 100\n",
        "net_income = profit - taxes\n",
        "\n",
        "\n",
        "print(f\"Sales: ${sales:,.0f}\")\n",
        "print(f\"Cost of Goods Sold ({cogs_pct:.0f}%): ${cogs:,.0f}\")\n",
        "print(f\"Gross Profit: ${profit:,.0f}\")\n",
        "print(f\"Taxes (@ {tax_rate:.0f}%): ${taxes:,.0f}\")\n",
        "print(f\"Net Income: ${net_income:,.0f}\")\n"
      ]
    }
  ]
}