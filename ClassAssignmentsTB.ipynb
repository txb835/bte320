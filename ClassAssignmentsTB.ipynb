{
  "nbformat": 4,
  "nbformat_minor": 0,
  "metadata": {
    "colab": {
      "provenance": [],
      "authorship_tag": "ABX9TyMagEUiZj0jKxZHcjHmW9vR",
      "include_colab_link": true
    },
    "kernelspec": {
      "name": "python3",
      "display_name": "Python 3"
    },
    "language_info": {
      "name": "python"
    }
  },
  "cells": [
    {
      "cell_type": "markdown",
      "metadata": {
        "id": "view-in-github",
        "colab_type": "text"
      },
      "source": [
        "<a href=\"https://colab.research.google.com/github/txb835/bte320/blob/main/ClassAssignmentsTB.ipynb\" target=\"_parent\"><img src=\"https://colab.research.google.com/assets/colab-badge.svg\" alt=\"Open In Colab\"/></a>"
      ]
    },
    {
      "cell_type": "code",
      "execution_count": 1,
      "metadata": {
        "colab": {
          "base_uri": "https://localhost:8080/"
        },
        "id": "djePDwoKgvEU",
        "outputId": "719a3267-6f3e-4fbf-8709-3c205c338391"
      },
      "outputs": [
        {
          "output_type": "stream",
          "name": "stdout",
          "text": [
            "Enter sales ($):10000\n",
            "Enter COGS %: .4\n",
            "Cost of Goods sold: $40.0\n",
            "Gross Profit: $9960.0\n"
          ]
        }
      ],
      "source": [
        "Sales = input(\"Enter sales ($):\")\n",
        "Sales = float(Sales)\n",
        "\n",
        "COGS = input(\"Enter COGS %: \")\n",
        "COGS = float(COGS)\n",
        "\n",
        "\n",
        "COGS = Sales * COGS / 100\n",
        "Profit = Sales - COGS\n",
        "\n",
        "print(f\"Cost of Goods sold: ${COGS}\\nGross Profit: ${Profit}\")\n"
      ]
    },
    {
      "cell_type": "code",
      "source": [
        "Sales = input(\"Enter sales ($):\")\n",
        "Sales = float(Sales)\n",
        "\n",
        "COGS = input(\"Enter COGS %: \")\n",
        "COGS = float(COGS)\n",
        "\n",
        "\n",
        "COGS = Sales * COGS / 100\n",
        "Profit = Sales - COGS\n",
        "\n",
        "Tax = input(\"Enter Tax %: \")\n",
        "Tax = float(Tax)\n",
        "\n",
        "Tax= ((100-Tax)/100) * Profit\n",
        "\n",
        "print(f\"Cost of Goods sold: ${COGS}\\nGross Profit: ${Profit}\\nNet Profit: ${Tax}\")"
      ],
      "metadata": {
        "colab": {
          "base_uri": "https://localhost:8080/"
        },
        "id": "8FrpvFz8g7Hz",
        "outputId": "33d31321-bf9a-4f31-b6e7-bc30516fe69a"
      },
      "execution_count": 2,
      "outputs": [
        {
          "output_type": "stream",
          "name": "stdout",
          "text": [
            "Enter sales ($):4500\n",
            "Enter COGS %: 30\n",
            "Enter Tax %: 30\n",
            "Cost of Goods sold: $1350.0\n",
            "Gross Profit: $3150.0\n",
            "Net Profit: $2205.0\n"
          ]
        }
      ]
    },
    {
      "cell_type": "code",
      "source": [
        "# Input\n",
        "unitsyear = float(input(\"Enter demand (units/year) \"))\n",
        "year = float(input(\"# of Years? \"))\n",
        "unit = float(input(\"Order Cost? ($/unit) \"))\n",
        "\n",
        "\n",
        "# Variables\n",
        "\n",
        "D = float(unitsyear)\n",
        "S = float(unit)\n",
        "H = float(order/year)\n",
        "\n",
        "import math\n",
        "eoq = math.sqrt(2 * D * S / H)\n",
        "\n",
        "# Output\n",
        "print(\"Cost Per Unit:\",int(eoq))\n"
      ],
      "metadata": {
        "id": "y44R5Kd8hBVw"
      },
      "execution_count": null,
      "outputs": []
    },
    {
      "cell_type": "code",
      "source": [
        "# Input\n",
        "Equation_Type = input(\"Equation Symbol?\")\n",
        "\n",
        "First_Number= float(input(\"Enter first number: \"))\n",
        "Second_Number= float(input(\"Enter second number: \"))\n",
        "\n",
        "# Output\n",
        "if Equation_Type == \"+\" :\n",
        "    print(First_Number + Second_Number)\n",
        "elif Equation_Type == \"-\" :\n",
        "    print(First_Number - Second_Number)\n",
        "elif Equation_Type == \"**\" :\n",
        "  print(First_Number ** Second_Number)\n",
        "elif Equation_Type == \"/\" :\n",
        "  try:\n",
        "    print(First_Number / Second_Number)\n",
        "  except ZeroDivisionError:\n",
        "    print(\"Cannot divide by zero\")\n",
        "elif Equation_Type == \"//\" :\n",
        "  print(First_Number // Second_Number)\n",
        "elif Equation_Type == \"%\" :\n",
        "  print(First_Number % Second_Number)\n",
        "elif Equation_Type == \"*\" :\n",
        "  print(First_Number * Second_Number)\n",
        "else :\n",
        "  print(\"Invalid Operator\")"
      ],
      "metadata": {
        "id": "kEXthS6ZhEWh"
      },
      "execution_count": null,
      "outputs": []
    },
    {
      "cell_type": "code",
      "source": [
        "for hour in range(1, 9):\n",
        "    fee= 5 +2.5 * hour\n",
        "    print(f\"{hour} {fee}\")\n"
      ],
      "metadata": {
        "id": "u10mqx79hG6E"
      },
      "execution_count": null,
      "outputs": []
    },
    {
      "cell_type": "code",
      "source": [
        "# Varibales\n",
        "for ad in range(0, 201, 25):\n",
        "  revenue = 20 * 10 + 10 *2*ad** 0.5\n",
        "  expenses = 200 + ad\n",
        "  profit = revenue - expenses\n",
        "  print(ad, round(profit, 2))\n",
        "\n"
      ],
      "metadata": {
        "id": "6zkc3z2ihHh4"
      },
      "execution_count": null,
      "outputs": []
    },
    {
      "cell_type": "code",
      "source": [
        "while ad in range(0, 201, 25): # go over slides, go over in class asignments"
      ],
      "metadata": {
        "id": "vFCUw6SshLRc"
      },
      "execution_count": null,
      "outputs": []
    },
    {
      "cell_type": "code",
      "source": [
        "L = []\n",
        "num = float(input(\"Give me a number: \"))\n",
        "\n",
        "while num != 0:\n",
        "  L.append(num)\n",
        "  num = float(input(\"Enter a number: \"))\n",
        "\n",
        "L.sort(reverse= True)\n",
        "print(L)"
      ],
      "metadata": {
        "id": "31UWpXBjhOWB"
      },
      "execution_count": null,
      "outputs": []
    }
  ]
}