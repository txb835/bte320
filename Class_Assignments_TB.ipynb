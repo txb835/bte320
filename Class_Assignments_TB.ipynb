{
  "nbformat": 4,
  "nbformat_minor": 0,
  "metadata": {
    "colab": {
      "provenance": [],
      "authorship_tag": "ABX9TyP2lKWy5//2ebCMVd8QNCy9",
      "include_colab_link": true
    },
    "kernelspec": {
      "name": "python3",
      "display_name": "Python 3"
    },
    "language_info": {
      "name": "python"
    }
  },
  "cells": [
    {
      "cell_type": "markdown",
      "metadata": {
        "id": "view-in-github",
        "colab_type": "text"
      },
      "source": [
        "<a href=\"https://colab.research.google.com/github/txb835/bte320/blob/main/Class_Assignments_TB.ipynb\" target=\"_parent\"><img src=\"https://colab.research.google.com/assets/colab-badge.svg\" alt=\"Open In Colab\"/></a>"
      ]
    },
    {
      "cell_type": "code",
      "execution_count": null,
      "metadata": {
        "colab": {
          "base_uri": "https://localhost:8080/"
        },
        "id": "djePDwoKgvEU",
        "outputId": "719a3267-6f3e-4fbf-8709-3c205c338391"
      },
      "outputs": [
        {
          "output_type": "stream",
          "name": "stdout",
          "text": [
            "Enter sales ($):10000\n",
            "Enter COGS %: .4\n",
            "Cost of Goods sold: $40.0\n",
            "Gross Profit: $9960.0\n"
          ]
        }
      ],
      "source": [
        "# Income Statement\n",
        "Sales = input(\"Enter sales ($):\")\n",
        "Sales = float(Sales)\n",
        "\n",
        "COGS = input(\"Enter COGS %: \")\n",
        "COGS = float(COGS)\n",
        "\n",
        "\n",
        "COGS = Sales * COGS / 100\n",
        "Profit = Sales - COGS\n",
        "\n",
        "print(f\"Cost of Goods sold: ${COGS}\\nGross Profit: ${Profit}\")\n"
      ]
    },
    {
      "cell_type": "code",
      "source": [
        "# Simple Income Statement Calc\n",
        "Sales = input(\"Enter sales ($):\")\n",
        "Sales = float(Sales)\n",
        "\n",
        "COGS = input(\"Enter COGS %: \")\n",
        "COGS = float(COGS)\n",
        "\n",
        "\n",
        "COGS = Sales * COGS / 100\n",
        "Profit = Sales - COGS\n",
        "\n",
        "Tax = input(\"Enter Tax %: \")\n",
        "Tax = float(Tax)\n",
        "\n",
        "Tax= ((100-Tax)/100) * Profit\n",
        "\n",
        "print(f\"Cost of Goods sold: ${COGS}\\nGross Profit: ${Profit}\\nNet Profit: ${Tax}\")"
      ],
      "metadata": {
        "colab": {
          "base_uri": "https://localhost:8080/"
        },
        "id": "8FrpvFz8g7Hz",
        "outputId": "33d31321-bf9a-4f31-b6e7-bc30516fe69a"
      },
      "execution_count": null,
      "outputs": [
        {
          "output_type": "stream",
          "name": "stdout",
          "text": [
            "Enter sales ($):4500\n",
            "Enter COGS %: 30\n",
            "Enter Tax %: 30\n",
            "Cost of Goods sold: $1350.0\n",
            "Gross Profit: $3150.0\n",
            "Net Profit: $2205.0\n"
          ]
        }
      ]
    },
    {
      "cell_type": "code",
      "source": [
        "# Numerical Calculator\n",
        "#Input\n",
        "Equation_Type = input(\"Equation Symbol?\")\n",
        "\n",
        "First_Number= float(input(\"Enter first number: \"))\n",
        "Second_Number= float(input(\"Enter second number: \"))\n",
        "\n",
        "# Output\n",
        "if Equation_Type == \"+\" :\n",
        "    print(First_Number + Second_Number)\n",
        "elif Equation_Type == \"-\" :\n",
        "    print(First_Number - Second_Number)\n",
        "elif Equation_Type == \"**\" :\n",
        "  print(First_Number ** Second_Number)\n",
        "elif Equation_Type == \"/\" :\n",
        "  try:\n",
        "    print(First_Number / Second_Number)\n",
        "  except ZeroDivisionError:\n",
        "    print(\"Cannot divide by zero\")\n",
        "elif Equation_Type == \"//\" :\n",
        "  print(First_Number // Second_Number)\n",
        "elif Equation_Type == \"%\" :\n",
        "  print(First_Number % Second_Number)\n",
        "elif Equation_Type == \"*\" :\n",
        "  print(First_Number * Second_Number)\n",
        "else :\n",
        "  print(\"Invalid Operator\")\n",
        "\n"
      ],
      "metadata": {
        "id": "kEXthS6ZhEWh",
        "colab": {
          "base_uri": "https://localhost:8080/"
        },
        "outputId": "7fe5b22d-56b1-47bc-ffa5-e1eebb3552dc"
      },
      "execution_count": 1,
      "outputs": [
        {
          "output_type": "stream",
          "name": "stdout",
          "text": [
            "Equation Symbol?*\n",
            "Enter first number: 7\n",
            "Enter second number: 5\n",
            "35.0\n"
          ]
        }
      ]
    },
    {
      "cell_type": "code",
      "source": [
        "#Parking Garage Fee\n",
        "print(\"# of hours\\tFee ($)\")\n",
        "print(\"--------------------\")\n",
        "for hours in range(1, 9):\n",
        "   fee = 5 + hours * 2.5\n",
        "   if fee < 10:\n",
        "    fee = 10.0\n",
        "    print(f\"{hours}\\t\\t{fee}\")\n",
        "   elif fee > 20:\n",
        "    fee = 20.0\n",
        "    print(f\"{hours}\\t\\t{fee}\")\n",
        "   else:\n",
        "    print(f\"{hours}\\t\\t{fee}\")"
      ],
      "metadata": {
        "id": "u10mqx79hG6E",
        "colab": {
          "base_uri": "https://localhost:8080/"
        },
        "outputId": "7d1c65b9-a364-47ab-e0f4-f69910763284"
      },
      "execution_count": 6,
      "outputs": [
        {
          "output_type": "stream",
          "name": "stdout",
          "text": [
            "# of hours\tFee ($)\n",
            "--------------------\n",
            "1\t\t10.0\n",
            "2\t\t10.0\n",
            "3\t\t12.5\n",
            "4\t\t15.0\n",
            "5\t\t17.5\n",
            "6\t\t20.0\n",
            "7\t\t20.0\n",
            "8\t\t20.0\n"
          ]
        }
      ]
    },
    {
      "cell_type": "code",
      "source": [
        "# Movie Theater Ad\n",
        "for ad in range(0, 201, 25):\n",
        "  revenue = 20 * 10 + 10 *2*ad** 0.5\n",
        "  expenses = 200 + ad\n",
        "  profit = revenue - expenses\n",
        "  print(ad, round(profit, 2))\n",
        "\n"
      ],
      "metadata": {
        "id": "6zkc3z2ihHh4"
      },
      "execution_count": null,
      "outputs": []
    },
    {
      "cell_type": "code",
      "source": [
        "# Append items to list iteratively\n",
        "L = []\n",
        "num = float(input(\"Give me a number: \"))\n",
        "\n",
        "while num != 0:\n",
        "  L.append(num)\n",
        "  num = float(input(\"Enter a number: \"))\n",
        "\n",
        "L.sort(reverse= True)\n",
        "print(L)"
      ],
      "metadata": {
        "id": "31UWpXBjhOWB",
        "colab": {
          "base_uri": "https://localhost:8080/"
        },
        "outputId": "8edb2191-492d-429a-f1bb-bfdbe00a9d11"
      },
      "execution_count": 2,
      "outputs": [
        {
          "output_type": "stream",
          "name": "stdout",
          "text": [
            "Give me a number: 5\n",
            "Enter a number: 6\n",
            "Enter a number: 7\n",
            "Enter a number: 8\n",
            "Enter a number: 0\n",
            "[8.0, 7.0, 6.0, 5.0]\n"
          ]
        }
      ]
    },
    {
      "cell_type": "code",
      "source": [
        "# Rock paper scissors\n",
        "import random\n",
        "\n",
        "print(\"Welcome to Rock-Paper-Scissors!\")\n",
        "\n",
        "# Start game loop\n",
        "play = input(\"Do you want to play? (yes/no): \").lower()\n",
        "\n",
        "while play == \"yes\":\n",
        "    # User input\n",
        "    user = input(\"Choose rock, paper, or scissors: \").lower()\n",
        "\n",
        "    # Computer random choice\n",
        "    computer = random.choice(['rock', 'paper', 'scissors'])\n",
        "    print(\"Computer chose:\", computer)\n",
        "\n",
        "    # Determine winner\n",
        "    if user == computer:\n",
        "        print(\"It's a tie!\")\n",
        "    elif (user == \"rock\" and computer == \"scissors\") or \\\n",
        "         (user == \"paper\" and computer == \"rock\") or \\\n",
        "         (user == \"scissors\" and computer == \"paper\"):\n",
        "        print(\"You win!\")\n",
        "    else:\n",
        "        print(\"You lose!\")\n",
        "\n",
        "    # Ask to play again\n",
        "    play = input(\"Do you want to play again? (yes/no): \").lower()\n",
        "\n",
        "print(\"Thanks for playing!\")\n"
      ],
      "metadata": {
        "colab": {
          "base_uri": "https://localhost:8080/"
        },
        "id": "5JjeyYcHUEeA",
        "outputId": "71e2603d-e52f-4b96-b8c1-968e06f0209d"
      },
      "execution_count": 3,
      "outputs": [
        {
          "output_type": "stream",
          "name": "stdout",
          "text": [
            "Welcome to Rock-Paper-Scissors!\n",
            "Do you want to play? (yes/no): yes\n",
            "Choose rock, paper, or scissors: rock\n",
            "Computer chose: rock\n",
            "It's a tie!\n",
            "Do you want to play again? (yes/no): yes\n",
            "Choose rock, paper, or scissors: paper\n",
            "Computer chose: paper\n",
            "It's a tie!\n",
            "Do you want to play again? (yes/no): no\n",
            "Thanks for playing!\n"
          ]
        }
      ]
    },
    {
      "cell_type": "code",
      "source": [
        "# Product prices for dict\n",
        "products = {\n",
        "    \"P-01\": 9.95,\n",
        "    \"P-02\": 10.5\n",
        "}\n",
        "\n",
        "user_key = input(\"Enter product ID: \")\n",
        "\n",
        "if user_key in products.keys():\n",
        "  print(f'Product: {user_key}, Price: {products[user_key]}$')\n",
        "else:\n",
        "  print(\"Invalid key\")\n"
      ],
      "metadata": {
        "colab": {
          "base_uri": "https://localhost:8080/"
        },
        "id": "RTwgvVOkwKc4",
        "outputId": "6b328acf-8f89-4676-fefb-141cdf8966af"
      },
      "execution_count": 5,
      "outputs": [
        {
          "output_type": "stream",
          "name": "stdout",
          "text": [
            "Enter product ID: P-01\n",
            "Product: P-01, Price: 9.95$\n"
          ]
        }
      ]
    }
  ]
}