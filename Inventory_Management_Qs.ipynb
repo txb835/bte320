{
  "nbformat": 4,
  "nbformat_minor": 0,
  "metadata": {
    "colab": {
      "provenance": [],
      "authorship_tag": "ABX9TyN/d11KqHY7Pm9fNHAhqoVZ",
      "include_colab_link": true
    },
    "kernelspec": {
      "name": "python3",
      "display_name": "Python 3"
    },
    "language_info": {
      "name": "python"
    }
  },
  "cells": [
    {
      "cell_type": "markdown",
      "metadata": {
        "id": "view-in-github",
        "colab_type": "text"
      },
      "source": [
        "<a href=\"https://colab.research.google.com/github/txb835/bte320/blob/main/Inventory_Management_Qs.ipynb\" target=\"_parent\"><img src=\"https://colab.research.google.com/assets/colab-badge.svg\" alt=\"Open In Colab\"/></a>"
      ]
    },
    {
      "cell_type": "code",
      "execution_count": 1,
      "metadata": {
        "colab": {
          "base_uri": "https://localhost:8080/"
        },
        "id": "EVV7RtVdJuh_",
        "outputId": "288540f3-d27f-4a71-8f2c-0bbdbbc060ca"
      },
      "outputs": [
        {
          "output_type": "stream",
          "name": "stdout",
          "text": [
            "=== EOQ Calculator ===\n",
            "Annual demand, D (units/year): 50\n",
            "Reorder/setup cost, S ($ per order): 100\n",
            "Holding cost, H ($ per unit per year): 25\n",
            "\n",
            "--- Results ---\n",
            "EOQ (units per order): 20.00\n",
            "Number of orders per year: 2.50\n",
            "Cycle time between orders: 0.4000 years (~146.0 days)\n",
            "\n",
            "--- Annual Costs at EOQ ---\n",
            "Ordering cost: $250.00  (D/EOQ * S)\n",
            "Holding cost : $250.00  (EOQ/2 * H)\n",
            "Total (ordering + holding) minimized cost: $500.00 (equals sqrt(2*D*S*H))\n"
          ]
        }
      ],
      "source": [
        "# Economic Order Quantity (EOQ) calculator\n",
        "# EOQ = sqrt(2 * D * S / H)\n",
        "# D: annual demand (units/year)\n",
        "# S: reorder/setup cost ($/order)\n",
        "# H: holding cost ($/unit/year)\n",
        "\n",
        "import math\n",
        "\n",
        "def get_float(prompt):\n",
        "    while True:\n",
        "        try:\n",
        "            x = float(input(prompt))\n",
        "            if x <= 0:\n",
        "                print(\"Please enter a positive number.\")\n",
        "                continue\n",
        "            return x\n",
        "        except ValueError:\n",
        "            print(\"Please enter a valid number.\")\n",
        "\n",
        "print(\"=== EOQ Calculator ===\")\n",
        "D = get_float(\"Annual demand, D (units/year): \")\n",
        "S = get_float(\"Reorder/setup cost, S ($ per order): \")\n",
        "H = get_float(\"Holding cost, H ($ per unit per year): \")\n",
        "\n",
        "EOQ = math.sqrt(2 * D * S / H)\n",
        "orders_per_year = D / EOQ\n",
        "cycle_time_years = EOQ / D            # time between orders in years\n",
        "cycle_time_days = cycle_time_years * 365\n",
        "\n",
        "# At the EOQ, ordering cost = holding cost = sqrt( D*S*H / 2 )\n",
        "ordering_cost = math.sqrt(D * S * H / 2)\n",
        "holding_cost  = ordering_cost\n",
        "total_min_cost = ordering_cost + holding_cost    # equals sqrt(2*D*S*H)\n",
        "\n",
        "print(\"\\n--- Results ---\")\n",
        "print(f\"EOQ (units per order): {EOQ:,.2f}\")\n",
        "print(f\"Number of orders per year: {orders_per_year:,.2f}\")\n",
        "print(f\"Cycle time between orders: {cycle_time_years:.4f} years (~{cycle_time_days:.1f} days)\")\n",
        "\n",
        "print(\"\\n--- Annual Costs at EOQ ---\")\n",
        "print(f\"Ordering cost: ${ordering_cost:,.2f}  (D/EOQ * S)\")\n",
        "print(f\"Holding cost : ${holding_cost:,.2f}  (EOQ/2 * H)\")\n",
        "print(f\"Total (ordering + holding) minimized cost: ${total_min_cost:,.2f} (equals sqrt(2*D*S*H))\")\n",
        "\n",
        "# Optional: reorder point if you know lead time (days) and demand is uniform.\n",
        "# Uncomment below if you want it:\n",
        "# L_days = get_float(\"\\n(Optional) Lead time (days): \")\n",
        "# daily_demand = D / 365\n",
        "# reorder_point = daily_demand * L_days\n",
        "# print(f\"Reorder point (units): {reorder_point:,.2f}  (daily demand × lead time)\")\n"
      ]
    }
  ]
}